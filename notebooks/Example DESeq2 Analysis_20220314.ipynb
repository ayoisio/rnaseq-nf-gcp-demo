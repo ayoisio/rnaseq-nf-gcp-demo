{
 "cells": [
  {
   "cell_type": "markdown",
   "id": "a5f81c6e-a3a1-434f-8871-c6b763cceba0",
   "metadata": {},
   "source": [
    "# Example DESeq2 Analysis"
   ]
  },
  {
   "cell_type": "markdown",
   "id": "38653141-ef0c-4e20-aedb-d3026dd17572",
   "metadata": {},
   "source": [
    "## Install libraries required for analysis:"
   ]
  },
  {
   "cell_type": "code",
   "execution_count": 48,
   "id": "bfff8c1c-354a-4a1c-a9f9-9ffd61ac6362",
   "metadata": {},
   "outputs": [
    {
     "name": "stderr",
     "output_type": "stream",
     "text": [
      "'getOption(\"repos\")' replaces Bioconductor standard repositories, see\n",
      "'?repositories' for details\n",
      "\n",
      "replacement repositories:\n",
      "    CRAN: https://cloud.r-project.org\n",
      "\n",
      "\n",
      "Bioconductor version 3.14 (BiocManager 1.30.16), R 4.1.2 (2021-11-01)\n",
      "\n",
      "Warning message:\n",
      "“package(s) not installed when version(s) same as current; use `force = TRUE` to\n",
      "  re-install: 'DESeq2'”\n",
      "Installation paths not writeable, unable to update packages\n",
      "  path: /usr/lib/R/library\n",
      "  packages:\n",
      "    class, foreign, MASS, Matrix, mgcv, nlme, nnet, rpart, spatial, survival\n",
      "  path: /usr/local/lib/R/site-library\n",
      "  packages:\n",
      "    commonmark, desc, openssl, Rcpp, rlang, rmarkdown, withr, xfun\n",
      "\n"
     ]
    }
   ],
   "source": [
    "# Load the package\n",
    "if (!require(\"BiocManager\", quietly = TRUE))\n",
    "    install.packages(\"BiocManager\")\n",
    "    \n",
    "BiocManager::install(\"DESeq2\", version = \"3.14\")"
   ]
  },
  {
   "cell_type": "markdown",
   "id": "0d0e963f-474c-4ae8-8c64-c0147e3b53a5",
   "metadata": {},
   "source": [
    "## Import libraries required for analysis:"
   ]
  },
  {
   "cell_type": "code",
   "execution_count": 149,
   "id": "acce02e0-94cb-4e38-b570-dab3bdbb5ff4",
   "metadata": {},
   "outputs": [],
   "source": [
    "# Load the package\n",
    "library(bigrquery)\n",
    "library(\"DESeq2\")\n",
    "library(ggplot2)\n",
    "library(tidyverse) "
   ]
  },
  {
   "cell_type": "markdown",
   "id": "650c7bf1-d7a4-48a8-bf89-4e52c03b766d",
   "metadata": {},
   "source": [
    "## Create DESeq2 Count DF"
   ]
  },
  {
   "cell_type": "code",
   "execution_count": 150,
   "id": "94369df4-624a-4b7f-a678-b673a461b40d",
   "metadata": {},
   "outputs": [
    {
     "data": {
      "text/html": [
       "<table class=\"dataframe\">\n",
       "<caption>A tibble: 10 × 3</caption>\n",
       "<thead>\n",
       "\t<tr><th scope=col>sample_id</th><th scope=col>gene_id</th><th scope=col>expected_count</th></tr>\n",
       "\t<tr><th scope=col>&lt;chr&gt;</th><th scope=col>&lt;chr&gt;</th><th scope=col>&lt;dbl&gt;</th></tr>\n",
       "</thead>\n",
       "<tbody>\n",
       "\t<tr><td>SRR15594009</td><td>ENSG00000050327_ARHGEF5 </td><td>0</td></tr>\n",
       "\t<tr><td>SRR15594009</td><td>ENSG00000089012_SIRPG   </td><td>0</td></tr>\n",
       "\t<tr><td>SRR15594009</td><td>ENSG00000092345_DAZL    </td><td>0</td></tr>\n",
       "\t<tr><td>SRR15594009</td><td>ENSG00000100249_C22orf31</td><td>0</td></tr>\n",
       "\t<tr><td>SRR15594009</td><td>ENSG00000101323_HAO1    </td><td>0</td></tr>\n",
       "\t<tr><td>SRR15594009</td><td>ENSG00000102290_PCDH11X </td><td>0</td></tr>\n",
       "\t<tr><td>SRR15594009</td><td>ENSG00000107807_TLX1    </td><td>0</td></tr>\n",
       "\t<tr><td>SRR15594009</td><td>ENSG00000109205_ODAM    </td><td>0</td></tr>\n",
       "\t<tr><td>SRR15594009</td><td>ENSG00000112186_CAP2    </td><td>0</td></tr>\n",
       "\t<tr><td>SRR15594009</td><td>ENSG00000122420_PTGFR   </td><td>0</td></tr>\n",
       "</tbody>\n",
       "</table>\n"
      ],
      "text/latex": [
       "A tibble: 10 × 3\n",
       "\\begin{tabular}{lll}\n",
       " sample\\_id & gene\\_id & expected\\_count\\\\\n",
       " <chr> & <chr> & <dbl>\\\\\n",
       "\\hline\n",
       "\t SRR15594009 & ENSG00000050327\\_ARHGEF5  & 0\\\\\n",
       "\t SRR15594009 & ENSG00000089012\\_SIRPG    & 0\\\\\n",
       "\t SRR15594009 & ENSG00000092345\\_DAZL     & 0\\\\\n",
       "\t SRR15594009 & ENSG00000100249\\_C22orf31 & 0\\\\\n",
       "\t SRR15594009 & ENSG00000101323\\_HAO1     & 0\\\\\n",
       "\t SRR15594009 & ENSG00000102290\\_PCDH11X  & 0\\\\\n",
       "\t SRR15594009 & ENSG00000107807\\_TLX1     & 0\\\\\n",
       "\t SRR15594009 & ENSG00000109205\\_ODAM     & 0\\\\\n",
       "\t SRR15594009 & ENSG00000112186\\_CAP2     & 0\\\\\n",
       "\t SRR15594009 & ENSG00000122420\\_PTGFR    & 0\\\\\n",
       "\\end{tabular}\n"
      ],
      "text/markdown": [
       "\n",
       "A tibble: 10 × 3\n",
       "\n",
       "| sample_id &lt;chr&gt; | gene_id &lt;chr&gt; | expected_count &lt;dbl&gt; |\n",
       "|---|---|---|\n",
       "| SRR15594009 | ENSG00000050327_ARHGEF5  | 0 |\n",
       "| SRR15594009 | ENSG00000089012_SIRPG    | 0 |\n",
       "| SRR15594009 | ENSG00000092345_DAZL     | 0 |\n",
       "| SRR15594009 | ENSG00000100249_C22orf31 | 0 |\n",
       "| SRR15594009 | ENSG00000101323_HAO1     | 0 |\n",
       "| SRR15594009 | ENSG00000102290_PCDH11X  | 0 |\n",
       "| SRR15594009 | ENSG00000107807_TLX1     | 0 |\n",
       "| SRR15594009 | ENSG00000109205_ODAM     | 0 |\n",
       "| SRR15594009 | ENSG00000112186_CAP2     | 0 |\n",
       "| SRR15594009 | ENSG00000122420_PTGFR    | 0 |\n",
       "\n"
      ],
      "text/plain": [
       "   sample_id   gene_id                  expected_count\n",
       "1  SRR15594009 ENSG00000050327_ARHGEF5  0             \n",
       "2  SRR15594009 ENSG00000089012_SIRPG    0             \n",
       "3  SRR15594009 ENSG00000092345_DAZL     0             \n",
       "4  SRR15594009 ENSG00000100249_C22orf31 0             \n",
       "5  SRR15594009 ENSG00000101323_HAO1     0             \n",
       "6  SRR15594009 ENSG00000102290_PCDH11X  0             \n",
       "7  SRR15594009 ENSG00000107807_TLX1     0             \n",
       "8  SRR15594009 ENSG00000109205_ODAM     0             \n",
       "9  SRR15594009 ENSG00000112186_CAP2     0             \n",
       "10 SRR15594009 ENSG00000122420_PTGFR    0             "
      ]
     },
     "metadata": {},
     "output_type": "display_data"
    }
   ],
   "source": [
    "# Store the project ID\n",
    "projectid = \"aadev-2342\"\n",
    "\n",
    "# Set your query\n",
    "sql <- \"SELECT sample_id, gene_id, expected_count FROM `aadev-2342.rnaseq_nf_gene_results.GRCh38_2020_A`\"\n",
    "\n",
    "# Run the query and store the data in a tibble\n",
    "tb <- bq_project_query(projectid, sql)\n",
    "\n",
    "# Print 10 rows of the data\n",
    "bq_table_download(tb, n_max = 10)"
   ]
  },
  {
   "cell_type": "code",
   "execution_count": 151,
   "id": "9e94fb86-8d9f-4793-a21b-e06d43c90fa1",
   "metadata": {},
   "outputs": [],
   "source": [
    "deseq2_count_data <- bq_table_download(tb) %>% pivot_wider(names_from=sample_id, values_from=expected_count, values_fill=0)"
   ]
  },
  {
   "cell_type": "code",
   "execution_count": 152,
   "id": "537839d4-ddf1-4d90-826a-78af19523057",
   "metadata": {},
   "outputs": [],
   "source": [
    "deseq2_count_data <- as.data.frame(deseq2_count_data)"
   ]
  },
  {
   "cell_type": "code",
   "execution_count": 153,
   "id": "9dfb0577-4b8b-448c-ae8b-191f8a584eb6",
   "metadata": {},
   "outputs": [],
   "source": [
    "deseq2_count_data <- deseq2_count_data %>% mutate_at(vars(-gene_id), funs(round(., 0)))"
   ]
  },
  {
   "cell_type": "code",
   "execution_count": 154,
   "id": "9cbec0d9-2694-4be5-87b5-d35a743de078",
   "metadata": {},
   "outputs": [],
   "source": [
    "deseq2_count_data <- deseq2_count_data[, order(colnames(deseq2_count_data))]"
   ]
  },
  {
   "cell_type": "code",
   "execution_count": 155,
   "id": "ad497f73-fdd1-498f-9ece-1959a5cc9e6c",
   "metadata": {},
   "outputs": [
    {
     "data": {
      "text/html": [
       "<table class=\"dataframe\">\n",
       "<caption>A data.frame: 6 × 8</caption>\n",
       "<thead>\n",
       "\t<tr><th></th><th scope=col>gene_id</th><th scope=col>SRR15594007</th><th scope=col>SRR15594008</th><th scope=col>SRR15594009</th><th scope=col>SRR15594010</th><th scope=col>SRR15594011</th><th scope=col>SRR15594012</th><th scope=col>SRR15594013</th></tr>\n",
       "\t<tr><th></th><th scope=col>&lt;chr&gt;</th><th scope=col>&lt;dbl&gt;</th><th scope=col>&lt;dbl&gt;</th><th scope=col>&lt;dbl&gt;</th><th scope=col>&lt;dbl&gt;</th><th scope=col>&lt;dbl&gt;</th><th scope=col>&lt;dbl&gt;</th><th scope=col>&lt;dbl&gt;</th></tr>\n",
       "</thead>\n",
       "<tbody>\n",
       "\t<tr><th scope=row>1</th><td>ENSG00000050327_ARHGEF5 </td><td> 6</td><td>0</td><td>0</td><td>0</td><td>0</td><td>33</td><td>6</td></tr>\n",
       "\t<tr><th scope=row>2</th><td>ENSG00000089012_SIRPG   </td><td> 2</td><td>0</td><td>0</td><td>0</td><td>0</td><td> 0</td><td>0</td></tr>\n",
       "\t<tr><th scope=row>3</th><td>ENSG00000092345_DAZL    </td><td>18</td><td>0</td><td>0</td><td>5</td><td>2</td><td> 0</td><td>0</td></tr>\n",
       "\t<tr><th scope=row>4</th><td>ENSG00000100249_C22orf31</td><td> 5</td><td>1</td><td>0</td><td>1</td><td>0</td><td> 0</td><td>0</td></tr>\n",
       "\t<tr><th scope=row>5</th><td>ENSG00000101323_HAO1    </td><td> 0</td><td>0</td><td>0</td><td>0</td><td>0</td><td> 0</td><td>0</td></tr>\n",
       "\t<tr><th scope=row>6</th><td>ENSG00000102290_PCDH11X </td><td> 0</td><td>0</td><td>0</td><td>0</td><td>0</td><td> 4</td><td>0</td></tr>\n",
       "</tbody>\n",
       "</table>\n"
      ],
      "text/latex": [
       "A data.frame: 6 × 8\n",
       "\\begin{tabular}{r|llllllll}\n",
       "  & gene\\_id & SRR15594007 & SRR15594008 & SRR15594009 & SRR15594010 & SRR15594011 & SRR15594012 & SRR15594013\\\\\n",
       "  & <chr> & <dbl> & <dbl> & <dbl> & <dbl> & <dbl> & <dbl> & <dbl>\\\\\n",
       "\\hline\n",
       "\t1 & ENSG00000050327\\_ARHGEF5  &  6 & 0 & 0 & 0 & 0 & 33 & 6\\\\\n",
       "\t2 & ENSG00000089012\\_SIRPG    &  2 & 0 & 0 & 0 & 0 &  0 & 0\\\\\n",
       "\t3 & ENSG00000092345\\_DAZL     & 18 & 0 & 0 & 5 & 2 &  0 & 0\\\\\n",
       "\t4 & ENSG00000100249\\_C22orf31 &  5 & 1 & 0 & 1 & 0 &  0 & 0\\\\\n",
       "\t5 & ENSG00000101323\\_HAO1     &  0 & 0 & 0 & 0 & 0 &  0 & 0\\\\\n",
       "\t6 & ENSG00000102290\\_PCDH11X  &  0 & 0 & 0 & 0 & 0 &  4 & 0\\\\\n",
       "\\end{tabular}\n"
      ],
      "text/markdown": [
       "\n",
       "A data.frame: 6 × 8\n",
       "\n",
       "| <!--/--> | gene_id &lt;chr&gt; | SRR15594007 &lt;dbl&gt; | SRR15594008 &lt;dbl&gt; | SRR15594009 &lt;dbl&gt; | SRR15594010 &lt;dbl&gt; | SRR15594011 &lt;dbl&gt; | SRR15594012 &lt;dbl&gt; | SRR15594013 &lt;dbl&gt; |\n",
       "|---|---|---|---|---|---|---|---|---|\n",
       "| 1 | ENSG00000050327_ARHGEF5  |  6 | 0 | 0 | 0 | 0 | 33 | 6 |\n",
       "| 2 | ENSG00000089012_SIRPG    |  2 | 0 | 0 | 0 | 0 |  0 | 0 |\n",
       "| 3 | ENSG00000092345_DAZL     | 18 | 0 | 0 | 5 | 2 |  0 | 0 |\n",
       "| 4 | ENSG00000100249_C22orf31 |  5 | 1 | 0 | 1 | 0 |  0 | 0 |\n",
       "| 5 | ENSG00000101323_HAO1     |  0 | 0 | 0 | 0 | 0 |  0 | 0 |\n",
       "| 6 | ENSG00000102290_PCDH11X  |  0 | 0 | 0 | 0 | 0 |  4 | 0 |\n",
       "\n"
      ],
      "text/plain": [
       "  gene_id                  SRR15594007 SRR15594008 SRR15594009 SRR15594010\n",
       "1 ENSG00000050327_ARHGEF5   6          0           0           0          \n",
       "2 ENSG00000089012_SIRPG     2          0           0           0          \n",
       "3 ENSG00000092345_DAZL     18          0           0           5          \n",
       "4 ENSG00000100249_C22orf31  5          1           0           1          \n",
       "5 ENSG00000101323_HAO1      0          0           0           0          \n",
       "6 ENSG00000102290_PCDH11X   0          0           0           0          \n",
       "  SRR15594011 SRR15594012 SRR15594013\n",
       "1 0           33          6          \n",
       "2 0            0          0          \n",
       "3 2            0          0          \n",
       "4 0            0          0          \n",
       "5 0            0          0          \n",
       "6 0            4          0          "
      ]
     },
     "metadata": {},
     "output_type": "display_data"
    }
   ],
   "source": [
    "head(deseq2_count_data)"
   ]
  },
  {
   "cell_type": "markdown",
   "id": "765cfe0d-1be5-4d73-a639-7f7902db5fc6",
   "metadata": {},
   "source": [
    "## Create DESeq2 Metadata DF\n",
    "### Metadata is available at link [here](https://www.ncbi.nlm.nih.gov/Traces/study/?acc=PRJNA757274&o=acc_s%3Aa):\n",
    "* Click download metadata button boxed in red\n",
    "\n",
    "<!-- <img src=\"img/PRJNA757274_SRA_Run_Selector_With_Red_Box.png\" width=1300 height=1300 /> -->"
   ]
  },
  {
   "cell_type": "code",
   "execution_count": 192,
   "id": "26e92b24-3f4b-4895-9fe9-1924547022e2",
   "metadata": {},
   "outputs": [],
   "source": [
    "deseq2_meta_data <- read.csv(file='data/PRJNA757274_SraRunTable.txt', header=TRUE, sep = \",\")"
   ]
  },
  {
   "cell_type": "code",
   "execution_count": 193,
   "id": "c461bbbb-5764-4b54-b824-2fb6d1bdedc3",
   "metadata": {},
   "outputs": [],
   "source": [
    "deseq2_meta_data <- deseq2_meta_data[, c(\"Run\", \"Diagnosis\", \"Genotype\", \"sex\", \"treatment_for_anemia\")] %>% \n",
    "  rename(\n",
    "    sample_id=Run,\n",
    "    diagnosis=Diagnosis,\n",
    "    genotype=Genotype)"
   ]
  },
  {
   "cell_type": "code",
   "execution_count": 194,
   "id": "6c7cd215-82da-47ae-aee2-c8e8f2ad4d62",
   "metadata": {},
   "outputs": [],
   "source": [
    "deseq2_meta_data <- head(deseq2_meta_data, -1)"
   ]
  },
  {
   "cell_type": "code",
   "execution_count": 196,
   "id": "4bd4fdf1-6137-4137-a559-01bda722e9af",
   "metadata": {},
   "outputs": [],
   "source": [
    "rownames(deseq2_meta_data) <- deseq2_meta_data$sample_id"
   ]
  },
  {
   "cell_type": "code",
   "execution_count": 198,
   "id": "48be441d-d533-4d36-ba3e-427d0f707ad6",
   "metadata": {},
   "outputs": [],
   "source": [
    "deseq2_meta_data <- deseq2_meta_data[, !(colnames(deseq2_meta_data) %in% c(\"sample_id\"))]"
   ]
  },
  {
   "cell_type": "code",
   "execution_count": 202,
   "id": "b5e72d27-1993-44ee-84eb-e41fc5ec9682",
   "metadata": {},
   "outputs": [
    {
     "data": {
      "text/html": [
       "<table class=\"dataframe\">\n",
       "<caption>A data.frame: 7 × 4</caption>\n",
       "<thead>\n",
       "\t<tr><th></th><th scope=col>diagnosis</th><th scope=col>genotype</th><th scope=col>sex</th><th scope=col>treatment_for_anemia</th></tr>\n",
       "\t<tr><th></th><th scope=col>&lt;chr&gt;</th><th scope=col>&lt;chr&gt;</th><th scope=col>&lt;chr&gt;</th><th scope=col>&lt;chr&gt;</th></tr>\n",
       "</thead>\n",
       "<tbody>\n",
       "\t<tr><th scope=row>SRR15594007</th><td>Healthy donor</td><td>Control</td><td>female</td><td>None               </td></tr>\n",
       "\t<tr><th scope=row>SRR15594008</th><td>Healthy donor</td><td>Control</td><td>male  </td><td>None               </td></tr>\n",
       "\t<tr><th scope=row>SRR15594009</th><td>Healthy donor</td><td>Control</td><td>female</td><td>None               </td></tr>\n",
       "\t<tr><th scope=row>SRR15594010</th><td>DBA          </td><td>RPL5   </td><td>male  </td><td>Transfusions       </td></tr>\n",
       "\t<tr><th scope=row>SRR15594011</th><td>DBA          </td><td>RPL5   </td><td>female</td><td>Transfusions       </td></tr>\n",
       "\t<tr><th scope=row>SRR15594012</th><td>DBA          </td><td>RPL11  </td><td>female</td><td>Transfusions       </td></tr>\n",
       "\t<tr><th scope=row>SRR15594013</th><td>DBA          </td><td>RPL5   </td><td>female</td><td>None; pre-treatment</td></tr>\n",
       "</tbody>\n",
       "</table>\n"
      ],
      "text/latex": [
       "A data.frame: 7 × 4\n",
       "\\begin{tabular}{r|llll}\n",
       "  & diagnosis & genotype & sex & treatment\\_for\\_anemia\\\\\n",
       "  & <chr> & <chr> & <chr> & <chr>\\\\\n",
       "\\hline\n",
       "\tSRR15594007 & Healthy donor & Control & female & None               \\\\\n",
       "\tSRR15594008 & Healthy donor & Control & male   & None               \\\\\n",
       "\tSRR15594009 & Healthy donor & Control & female & None               \\\\\n",
       "\tSRR15594010 & DBA           & RPL5    & male   & Transfusions       \\\\\n",
       "\tSRR15594011 & DBA           & RPL5    & female & Transfusions       \\\\\n",
       "\tSRR15594012 & DBA           & RPL11   & female & Transfusions       \\\\\n",
       "\tSRR15594013 & DBA           & RPL5    & female & None; pre-treatment\\\\\n",
       "\\end{tabular}\n"
      ],
      "text/markdown": [
       "\n",
       "A data.frame: 7 × 4\n",
       "\n",
       "| <!--/--> | diagnosis &lt;chr&gt; | genotype &lt;chr&gt; | sex &lt;chr&gt; | treatment_for_anemia &lt;chr&gt; |\n",
       "|---|---|---|---|---|\n",
       "| SRR15594007 | Healthy donor | Control | female | None                |\n",
       "| SRR15594008 | Healthy donor | Control | male   | None                |\n",
       "| SRR15594009 | Healthy donor | Control | female | None                |\n",
       "| SRR15594010 | DBA           | RPL5    | male   | Transfusions        |\n",
       "| SRR15594011 | DBA           | RPL5    | female | Transfusions        |\n",
       "| SRR15594012 | DBA           | RPL11   | female | Transfusions        |\n",
       "| SRR15594013 | DBA           | RPL5    | female | None; pre-treatment |\n",
       "\n"
      ],
      "text/plain": [
       "            diagnosis     genotype sex    treatment_for_anemia\n",
       "SRR15594007 Healthy donor Control  female None                \n",
       "SRR15594008 Healthy donor Control  male   None                \n",
       "SRR15594009 Healthy donor Control  female None                \n",
       "SRR15594010 DBA           RPL5     male   Transfusions        \n",
       "SRR15594011 DBA           RPL5     female Transfusions        \n",
       "SRR15594012 DBA           RPL11    female Transfusions        \n",
       "SRR15594013 DBA           RPL5     female None; pre-treatment "
      ]
     },
     "metadata": {},
     "output_type": "display_data"
    }
   ],
   "source": [
    "head(deseq2_meta_data, 7)"
   ]
  },
  {
   "cell_type": "markdown",
   "id": "99441421-ed81-4b2e-a2bb-027d8e1f5d7f",
   "metadata": {},
   "source": [
    "## Perform DESeq2 Analysis"
   ]
  },
  {
   "cell_type": "code",
   "execution_count": 209,
   "id": "5bb620f5-9c2a-4109-b531-7de02d26d773",
   "metadata": {},
   "outputs": [
    {
     "name": "stderr",
     "output_type": "stream",
     "text": [
      "converting counts to integer mode\n",
      "\n",
      "Warning message in DESeqDataSet(se, design = design, ignoreRank):\n",
      "“some variables in design formula are characters, converting to factors”\n",
      "  Note: levels of factors in the design contain characters other than\n",
      "  letters, numbers, '_' and '.'. It is recommended (but not required) to use\n",
      "  only letters, numbers, and delimiters '_' or '.', as these are safe characters\n",
      "  for column names in R. [This is a message, not a warning or an error]\n",
      "\n"
     ]
    }
   ],
   "source": [
    "dds <- DESeqDataSetFromMatrix(countData=deseq2_count_data, colData=deseq2_meta_data, design=~sex + diagnosis, tidy=TRUE)"
   ]
  },
  {
   "cell_type": "code",
   "execution_count": 210,
   "id": "f30b8fda-efbb-4358-a179-485f7469fbbf",
   "metadata": {},
   "outputs": [
    {
     "name": "stderr",
     "output_type": "stream",
     "text": [
      "estimating size factors\n",
      "\n",
      "  Note: levels of factors in the design contain characters other than\n",
      "  letters, numbers, '_' and '.'. It is recommended (but not required) to use\n",
      "  only letters, numbers, and delimiters '_' or '.', as these are safe characters\n",
      "  for column names in R. [This is a message, not a warning or an error]\n",
      "\n",
      "estimating dispersions\n",
      "\n",
      "gene-wise dispersion estimates\n",
      "\n",
      "mean-dispersion relationship\n",
      "\n",
      "  Note: levels of factors in the design contain characters other than\n",
      "  letters, numbers, '_' and '.'. It is recommended (but not required) to use\n",
      "  only letters, numbers, and delimiters '_' or '.', as these are safe characters\n",
      "  for column names in R. [This is a message, not a warning or an error]\n",
      "\n",
      "final dispersion estimates\n",
      "\n",
      "  Note: levels of factors in the design contain characters other than\n",
      "  letters, numbers, '_' and '.'. It is recommended (but not required) to use\n",
      "  only letters, numbers, and delimiters '_' or '.', as these are safe characters\n",
      "  for column names in R. [This is a message, not a warning or an error]\n",
      "\n",
      "fitting model and testing\n",
      "\n"
     ]
    }
   ],
   "source": [
    "dds <- DESeq(dds)"
   ]
  },
  {
   "cell_type": "code",
   "execution_count": 211,
   "id": "433d98e9-d19c-4c32-b791-daa52579f04d",
   "metadata": {},
   "outputs": [
    {
     "data": {
      "text/html": [
       "<table class=\"dataframe\">\n",
       "<caption>A data.frame: 6 × 7</caption>\n",
       "<thead>\n",
       "\t<tr><th></th><th scope=col>row</th><th scope=col>baseMean</th><th scope=col>log2FoldChange</th><th scope=col>lfcSE</th><th scope=col>stat</th><th scope=col>pvalue</th><th scope=col>padj</th></tr>\n",
       "\t<tr><th></th><th scope=col>&lt;chr&gt;</th><th scope=col>&lt;dbl&gt;</th><th scope=col>&lt;dbl&gt;</th><th scope=col>&lt;dbl&gt;</th><th scope=col>&lt;dbl&gt;</th><th scope=col>&lt;dbl&gt;</th><th scope=col>&lt;dbl&gt;</th></tr>\n",
       "</thead>\n",
       "<tbody>\n",
       "\t<tr><th scope=row>1</th><td>ENSG00000050327_ARHGEF5 </td><td>5.5824210</td><td>-1.800390</td><td>2.186318</td><td>-0.8234805</td><td>0.4102348</td><td>0.6794149</td></tr>\n",
       "\t<tr><th scope=row>2</th><td>ENSG00000089012_SIRPG   </td><td>0.2354627</td><td> 1.626925</td><td>3.806313</td><td> 0.4274280</td><td>0.6690676</td><td>       NA</td></tr>\n",
       "\t<tr><th scope=row>3</th><td>ENSG00000092345_DAZL    </td><td>3.1935119</td><td> 2.505254</td><td>2.719399</td><td> 0.9212531</td><td>0.3569183</td><td>       NA</td></tr>\n",
       "\t<tr><th scope=row>4</th><td>ENSG00000100249_C22orf31</td><td>0.8734329</td><td> 2.702074</td><td>3.706138</td><td> 0.7290809</td><td>0.4659522</td><td>       NA</td></tr>\n",
       "\t<tr><th scope=row>5</th><td>ENSG00000101323_HAO1    </td><td>0.0000000</td><td>       NA</td><td>      NA</td><td>        NA</td><td>       NA</td><td>       NA</td></tr>\n",
       "\t<tr><th scope=row>6</th><td>ENSG00000102290_PCDH11X </td><td>0.4712758</td><td>-1.887851</td><td>3.784315</td><td>-0.4988619</td><td>0.6178767</td><td>       NA</td></tr>\n",
       "</tbody>\n",
       "</table>\n"
      ],
      "text/latex": [
       "A data.frame: 6 × 7\n",
       "\\begin{tabular}{r|lllllll}\n",
       "  & row & baseMean & log2FoldChange & lfcSE & stat & pvalue & padj\\\\\n",
       "  & <chr> & <dbl> & <dbl> & <dbl> & <dbl> & <dbl> & <dbl>\\\\\n",
       "\\hline\n",
       "\t1 & ENSG00000050327\\_ARHGEF5  & 5.5824210 & -1.800390 & 2.186318 & -0.8234805 & 0.4102348 & 0.6794149\\\\\n",
       "\t2 & ENSG00000089012\\_SIRPG    & 0.2354627 &  1.626925 & 3.806313 &  0.4274280 & 0.6690676 &        NA\\\\\n",
       "\t3 & ENSG00000092345\\_DAZL     & 3.1935119 &  2.505254 & 2.719399 &  0.9212531 & 0.3569183 &        NA\\\\\n",
       "\t4 & ENSG00000100249\\_C22orf31 & 0.8734329 &  2.702074 & 3.706138 &  0.7290809 & 0.4659522 &        NA\\\\\n",
       "\t5 & ENSG00000101323\\_HAO1     & 0.0000000 &        NA &       NA &         NA &        NA &        NA\\\\\n",
       "\t6 & ENSG00000102290\\_PCDH11X  & 0.4712758 & -1.887851 & 3.784315 & -0.4988619 & 0.6178767 &        NA\\\\\n",
       "\\end{tabular}\n"
      ],
      "text/markdown": [
       "\n",
       "A data.frame: 6 × 7\n",
       "\n",
       "| <!--/--> | row &lt;chr&gt; | baseMean &lt;dbl&gt; | log2FoldChange &lt;dbl&gt; | lfcSE &lt;dbl&gt; | stat &lt;dbl&gt; | pvalue &lt;dbl&gt; | padj &lt;dbl&gt; |\n",
       "|---|---|---|---|---|---|---|---|\n",
       "| 1 | ENSG00000050327_ARHGEF5  | 5.5824210 | -1.800390 | 2.186318 | -0.8234805 | 0.4102348 | 0.6794149 |\n",
       "| 2 | ENSG00000089012_SIRPG    | 0.2354627 |  1.626925 | 3.806313 |  0.4274280 | 0.6690676 |        NA |\n",
       "| 3 | ENSG00000092345_DAZL     | 3.1935119 |  2.505254 | 2.719399 |  0.9212531 | 0.3569183 |        NA |\n",
       "| 4 | ENSG00000100249_C22orf31 | 0.8734329 |  2.702074 | 3.706138 |  0.7290809 | 0.4659522 |        NA |\n",
       "| 5 | ENSG00000101323_HAO1     | 0.0000000 |        NA |       NA |         NA |        NA |        NA |\n",
       "| 6 | ENSG00000102290_PCDH11X  | 0.4712758 | -1.887851 | 3.784315 | -0.4988619 | 0.6178767 |        NA |\n",
       "\n"
      ],
      "text/plain": [
       "  row                      baseMean  log2FoldChange lfcSE    stat      \n",
       "1 ENSG00000050327_ARHGEF5  5.5824210 -1.800390      2.186318 -0.8234805\n",
       "2 ENSG00000089012_SIRPG    0.2354627  1.626925      3.806313  0.4274280\n",
       "3 ENSG00000092345_DAZL     3.1935119  2.505254      2.719399  0.9212531\n",
       "4 ENSG00000100249_C22orf31 0.8734329  2.702074      3.706138  0.7290809\n",
       "5 ENSG00000101323_HAO1     0.0000000        NA            NA         NA\n",
       "6 ENSG00000102290_PCDH11X  0.4712758 -1.887851      3.784315 -0.4988619\n",
       "  pvalue    padj     \n",
       "1 0.4102348 0.6794149\n",
       "2 0.6690676        NA\n",
       "3 0.3569183        NA\n",
       "4 0.4659522        NA\n",
       "5        NA        NA\n",
       "6 0.6178767        NA"
      ]
     },
     "metadata": {},
     "output_type": "display_data"
    }
   ],
   "source": [
    "res <- results(dds)\n",
    "head(results(dds, tidy=TRUE)) #let's look at the results table"
   ]
  },
  {
   "cell_type": "code",
   "execution_count": 212,
   "id": "ca538a98-7592-4e07-aa1b-0b8d749b7eeb",
   "metadata": {},
   "outputs": [
    {
     "name": "stdout",
     "output_type": "stream",
     "text": [
      "\n",
      "out of 24754 with nonzero total read count\n",
      "adjusted p-value < 0.1\n",
      "LFC > 0 (up)       : 1314, 5.3%\n",
      "LFC < 0 (down)     : 1708, 6.9%\n",
      "outliers [1]       : 43, 0.17%\n",
      "low counts [2]     : 8421, 34%\n",
      "(mean count < 5)\n",
      "[1] see 'cooksCutoff' argument of ?results\n",
      "[2] see 'independentFiltering' argument of ?results\n",
      "\n"
     ]
    }
   ],
   "source": [
    "summary(res)"
   ]
  },
  {
   "cell_type": "markdown",
   "id": "bf12189f-19b2-4524-a7da-e2aad6b27744",
   "metadata": {},
   "source": [
    "## Top Genes by P-value"
   ]
  },
  {
   "cell_type": "code",
   "execution_count": 213,
   "id": "f841c576-816d-4788-8e0f-81d1993e6bc1",
   "metadata": {},
   "outputs": [
    {
     "data": {
      "text/plain": [
       "log2 fold change (MLE): diagnosis Healthy.donor vs DBA \n",
       "Wald test p-value: diagnosis Healthy.donor vs DBA \n",
       "DataFrame with 6 rows and 6 columns\n",
       "                           baseMean log2FoldChange     lfcSE      stat\n",
       "                          <numeric>      <numeric> <numeric> <numeric>\n",
       "ENSG00000196576_PLXNB2     3920.947       -8.16560  0.324090  -25.1955\n",
       "ENSG00000170500_LONRF2     1996.765       -7.61125  0.361289  -21.0669\n",
       "ENSG00000120889_TNFRSF10B  1355.446       -6.63588  0.360630  -18.4008\n",
       "ENSG00000135636_DYSF        713.133       -6.79976  0.379435  -17.9207\n",
       "ENSG00000100342_APOL1      2535.707       -4.68124  0.267831  -17.4783\n",
       "ENSG00000179348_GATA2       941.840       -4.04112  0.235246  -17.1783\n",
       "                                pvalue         padj\n",
       "                             <numeric>    <numeric>\n",
       "ENSG00000196576_PLXNB2    4.49141e-140 7.31650e-136\n",
       "ENSG00000170500_LONRF2     1.60061e-98  1.30369e-94\n",
       "ENSG00000120889_TNFRSF10B  1.29413e-75  7.02713e-72\n",
       "ENSG00000135636_DYSF       8.12509e-72  3.30894e-68\n",
       "ENSG00000100342_APOL1      2.09515e-68  6.82600e-65\n",
       "ENSG00000179348_GATA2      3.86272e-66  1.04873e-62"
      ]
     },
     "metadata": {},
     "output_type": "display_data"
    }
   ],
   "source": [
    "res <- res[order(res$padj),]\n",
    "head(res)"
   ]
  },
  {
   "cell_type": "code",
   "execution_count": 215,
   "id": "d31b770a-d209-4fae-a209-3b70266fae57",
   "metadata": {},
   "outputs": [
    {
     "data": {
      "image/png": "[encoded data removed]",
      "text/plain": [
       "Plot with title “ENSG00000179348_GATA2”"
      ]
     },
     "metadata": {
      "image/png": {
       "height": 420,
       "width": 420
      }
     },
     "output_type": "display_data"
    }
   ],
   "source": [
    "par(mfrow=c(2,3))\n",
    "\n",
    "plotCounts(dds, gene=\"ENSG00000196576_PLXNB2\", intgroup=\"diagnosis\")\n",
    "plotCounts(dds, gene=\"ENSG00000170500_LONRF2\", intgroup=\"diagnosis\")\n",
    "plotCounts(dds, gene=\"ENSG00000120889_TNFRSF10B\", intgroup=\"diagnosis\")\n",
    "plotCounts(dds, gene=\"ENSG00000135636_DYSF\", intgroup=\"diagnosis\")\n",
    "plotCounts(dds, gene=\"ENSG00000100342_APOL1\", intgroup=\"diagnosis\")\n",
    "plotCounts(dds, gene=\"ENSG00000179348_GATA2\", intgroup=\"diagnosis\")"
   ]
  },
  {
   "cell_type": "markdown",
   "id": "99638158-706f-4327-b782-32c2434308d9",
   "metadata": {},
   "source": [
    "## Volcano Plot"
   ]
  },
  {
   "cell_type": "code",
   "execution_count": 216,
   "id": "56ce8965-de75-460b-bbdb-32e453c06001",
   "metadata": {},
   "outputs": [
    {
     "data": {
      "image/png": "[encoded data removed]",
      "text/plain": [
       "Plot with title “Volcano plot”"
      ]
     },
     "metadata": {
      "image/png": {
       "height": 420,
       "width": 420
      }
     },
     "output_type": "display_data"
    }
   ],
   "source": [
    "#reset par\n",
    "par(mfrow=c(1,1))\n",
    "# Make a basic volcano plot\n",
    "with(res, plot(log2FoldChange, -log10(pvalue), pch=20, main=\"Volcano plot\", xlim=c(-3,3)))\n",
    "\n",
    "# Add colored points: blue if padj<0.01, red if log2FC>1 and padj<0.05)\n",
    "with(subset(res, padj<.01 ), points(log2FoldChange, -log10(pvalue), pch=20, col=\"blue\"))\n",
    "with(subset(res, padj<.01 & abs(log2FoldChange)>2), points(log2FoldChange, -log10(pvalue), pch=20, col=\"red\"))"
   ]
  },
  {
   "cell_type": "markdown",
   "id": "08f9e275-4ac5-4db2-82e8-67f94d39354b",
   "metadata": {},
   "source": [
    "## PCA"
   ]
  },
  {
   "cell_type": "code",
   "execution_count": 217,
   "id": "4ba9ede9-6110-49fc-9cdb-656e771e477c",
   "metadata": {},
   "outputs": [],
   "source": [
    "vsdata <- vst(dds, blind=FALSE)"
   ]
  },
  {
   "cell_type": "code",
   "execution_count": 218,
   "id": "d1cd7274-3651-403d-9278-6220e72bdaf7",
   "metadata": {},
   "outputs": [
    {
     "data": {
      "image/png": "[encoded data removed]",
      "text/plain": [
       "plot without title"
      ]
     },
     "metadata": {
      "image/png": {
       "height": 420,
       "width": 420
      }
     },
     "output_type": "display_data"
    }
   ],
   "source": [
    "plotPCA(vsdata, intgroup=\"diagnosis\") #using the DESEQ2 plotPCA fxn we can"
   ]
  },
  {
   "cell_type": "markdown",
   "id": "d59fcd36-2480-4fc3-a115-c8c932343aba",
   "metadata": {},
   "source": [
    "## Validating Top Genes Observed in Analysis"
   ]
  },
  {
   "cell_type": "markdown",
   "id": "30145a84-7af9-4bad-862f-5f1516b551a3",
   "metadata": {},
   "source": [
    "### GATA2\n",
    "* [Proerythroblast Cells of Diamond-Blackfan Anemia Patients With RPS19 and CECR1 Mutations Have Similar Transcriptomic Signature by Karaosmanoglu et al](https://www.frontiersin.org/articles/10.3389/fphys.2021.679919/full)\n",
    "\n",
    "<!-- <img src=\"img/gata2_snippet_karaosmanoglu_et_al.png\" width=1000 height=1000 /> -->"
   ]
  },
  {
   "cell_type": "markdown",
   "id": "c2645fc2-8269-47b3-b24f-26bc384766d4",
   "metadata": {},
   "source": [
    "### DYSF\n",
    "* [Dysferlin and Other Non-Red Cell Proteins Accumulate in the Red Cell Membrane of Diamond-Blackfan Anemia Patients by Pesciotta et al](https://journals.plos.org/plosone/article?id=10.1371/journal.pone.0085504)\n",
    "\n",
    "<!-- <img src=\"img/DYSF_snippet_pesciotta_et_al.png\" width=1000 height=1000 /> -->"
   ]
  },
  {
   "cell_type": "markdown",
   "id": "fffd7a9e-d5c4-42ec-819e-8afb114718ff",
   "metadata": {
    "tags": []
   },
   "source": [
    "### TNFRSF10B\n",
    "* [Defective Ribosomal Protein Gene Expression Alters Transcription, Translation, Apoptosis, and Oncogenic Pathways in Diamond-Blackfan Anemia by Gazda et al](https://www.ncbi.nlm.nih.gov/pmc/articles/PMC3372914/)\n",
    "\n",
    "<!-- <img src=\"img/TNFRSF10B_snippet_gazda_et_al.png\" width=1000 height=1000 /> -->"
   ]
  }
 ],
 "metadata": {
  "environment": {
   "kernel": "ir",
   "name": "r-cpu.4-1.m90",
   "type": "gcloud",
   "uri": "gcr.io/deeplearning-platform-release/r-cpu.4-1:m90"
  },
  "kernelspec": {
   "display_name": "R",
   "language": "R",
   "name": "ir"
  },
  "language_info": {
   "codemirror_mode": "r",
   "file_extension": ".r",
   "mimetype": "text/x-r-source",
   "name": "R",
   "pygments_lexer": "r",
   "version": "4.1.2"
  }
 },
 "nbformat": 4,
 "nbformat_minor": 5
}
